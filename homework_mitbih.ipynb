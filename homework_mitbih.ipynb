{
 "cells": [
  {
   "attachments": {},
   "cell_type": "markdown",
   "metadata": {},
   "source": [
    "Loading Data"
   ]
  },
  {
   "cell_type": "code",
   "execution_count": null,
   "metadata": {},
   "outputs": [],
   "source": [
    "# read data from .arff files\n",
    "import os\n",
    "\n",
    "import sktime\n",
    "from sktime.datasets import load_from_tsfile\n",
    "import pandas as pd\n",
    "import numpy as np\n",
    "from sklearn.model_selection import train_test_split\n",
    "\n",
    "# load data from .csv using pd\n",
    "def load_data(path):\n",
    "\n",
    "    # load data from .csv\n",
    "    data = pd.read_csv(path, header=None)\n",
    "\n",
    "    # get labels\n",
    "    y = data.iloc[:, -1].values\n",
    "\n",
    "    # get features\n",
    "    X = data.iloc[:, :-1].values\n",
    "\n",
    "    # return features and labels\n",
    "    return X, y"
   ]
  },
  {
   "attachments": {},
   "cell_type": "markdown",
   "metadata": {},
   "source": [
    "Loading MITBIH DATA"
   ]
  },
  {
   "cell_type": "code",
   "execution_count": null,
   "metadata": {},
   "outputs": [],
   "source": [
    "# Load mitbih data\n",
    "train_x_mitbih, train_y_mitbih = load_data(\n",
    "    \"./datasets/ecg/mitbih_train.csv\"\n",
    ")\n",
    "test_x_mitbih, test_y_mitbih = load_data(\n",
    "    \"./datasets/ecg/mitbih_test.csv\"\n",
    ")\n"
   ]
  },
  {
   "attachments": {},
   "cell_type": "markdown",
   "metadata": {},
   "source": [
    "Loading PTBDB DATA"
   ]
  },
  {
   "cell_type": "code",
   "execution_count": null,
   "metadata": {},
   "outputs": [],
   "source": [
    "# load ptbdb data \n",
    "ptbdb_normal_x, ptbdb_normal_y = load_data(\n",
    "    \"./datasets/ecg/ptbdb_normal.csv\"\n",
    ")\n",
    "\n",
    "ptbdb_abnormal_x, ptbdb_abnormal_y = load_data(\n",
    "    \"./datasets/ecg/ptbdb_abnormal.csv\"\n",
    ")\n",
    "\n",
    "# merge the data and labels\n",
    "x_ptbdb = np.concatenate((ptbdb_normal_x, ptbdb_abnormal_x))\n",
    "y_ptbdb = np.concatenate((ptbdb_normal_y, ptbdb_abnormal_y))\n",
    "\n",
    "# split the data into train and test using \n",
    "train_x_ptbdb, test_x_ptbdb, train_y_ptbdb, test_y_ptbdb = train_test_split(x_ptbdb, y_ptbdb, test_size=0.33, random_state=42)\n",
    "\n"
   ]
  },
  {
   "attachments": {},
   "cell_type": "markdown",
   "metadata": {},
   "source": [
    "PTBDB DATA VISUALIZATION"
   ]
  },
  {
   "cell_type": "code",
   "execution_count": null,
   "metadata": {},
   "outputs": [],
   "source": [
    "# Train data ptbdb\n",
    "\n",
    "# create a dataframe from the data and labels \n",
    "df_train_ptbdb = pd.DataFrame(train_x_ptbdb)\n",
    "df_train_ptbdb['label'] = train_y_ptbdb\n",
    "\n",
    "# create a plot bar from the dataframe using pandas.plot.bar\n",
    "df_train_ptbdb['label'].value_counts().plot.bar(title = \"Train data ptbdb\")\n"
   ]
  },
  {
   "cell_type": "code",
   "execution_count": null,
   "metadata": {},
   "outputs": [],
   "source": [
    "# Test data ptbdb\n",
    "\n",
    "# create a dataframe from the data and labels \n",
    "df_test_ptbdb = pd.DataFrame(test_x_ptbdb)\n",
    "df_test_ptbdb['label'] = test_y_ptbdb\n",
    "\n",
    "# create a plot bar from the dataframe using pandas.plot.bar\n",
    "df_test_ptbdb['label'].value_counts().plot.bar(title = \"Test data ptbdb\")\n"
   ]
  },
  {
   "cell_type": "code",
   "execution_count": null,
   "metadata": {},
   "outputs": [],
   "source": [
    "# put test_df and train_df on the same plot bar with different colors \n",
    "df_train_ptbdb['label'].value_counts().plot.bar(title = \"Train and Test data ptbdb\", color = 'blue', alpha = 1)\n",
    "df_test_ptbdb['label'].value_counts().plot.bar(color = 'red', alpha = 1)"
   ]
  },
  {
   "cell_type": "code",
   "execution_count": null,
   "metadata": {},
   "outputs": [],
   "source": [
    "ptbdb_labels = df_train_ptbdb['label'].unique()\n",
    "counts_train = df_train_ptbdb['label'].value_counts()\n",
    "counts_test= df_test_ptbdb['label'].value_counts()\n",
    "\n",
    "\n",
    "print(\"----------------------------------\")\n",
    "print(\"TRAIN: \"+  str(counts_train))\n",
    "print(\"----------------------------------\")\n",
    "print(\"TEST: \" + str(counts_test))"
   ]
  },
  {
   "cell_type": "code",
   "execution_count": null,
   "metadata": {},
   "outputs": [],
   "source": [
    "# for each label, plot the data#\n",
    "for label in ptbdb_labels:\n",
    "    current = df_train_ptbdb[df_train_ptbdb['label'] == label].iloc[0]\n",
    "\n",
    "    # create a dataframe from the data and labels\n",
    "    current_df = pd.DataFrame(current)\n",
    "    current_df = current_df.drop('label', axis = 0)\n",
    "    current_df.plot(title = str(label), figsize = (10, 5))\n",
    "    "
   ]
  },
  {
   "attachments": {},
   "cell_type": "markdown",
   "metadata": {},
   "source": [
    "MITBIH DATA VISUALIZATION"
   ]
  },
  {
   "cell_type": "code",
   "execution_count": null,
   "metadata": {},
   "outputs": [],
   "source": [
    "# Train data mitbih\n",
    "\n",
    "# create a dataframe from the data and labels \n",
    "train_df_mitbih = pd.DataFrame(train_x_mitbih)\n",
    "train_df_mitbih['label'] = train_y_mitbih\n",
    "\n",
    "# create a plot bar from the dataframe using pandas.plot.bar\n",
    "train_df_mitbih['label'].value_counts().plot.bar(title = \"Train data mitbih\")"
   ]
  },
  {
   "cell_type": "code",
   "execution_count": null,
   "metadata": {},
   "outputs": [],
   "source": [
    "# Test data mitbih\n",
    "\n",
    "# create a dataframe from the data and labels \n",
    "test_df_mitbih = pd.DataFrame(test_x_mitbih)\n",
    "test_df_mitbih['label'] = test_y_mitbih\n",
    "\n",
    "# create a plot bar from the dataframe using pandas.plot.bar\n",
    "test_df_mitbih['label'].value_counts().plot.bar(title = \"Train data mitbih\")"
   ]
  },
  {
   "cell_type": "code",
   "execution_count": null,
   "metadata": {},
   "outputs": [],
   "source": [
    "# put test_df and train_df on the same plot bar with different colors \n",
    "train_df_mitbih['label'].value_counts().plot.bar(title = \"Train and Test data\", color = 'blue', alpha = 1)\n",
    "test_df_mitbih['label'].value_counts().plot.bar(color = 'red', alpha = 1)\n"
   ]
  },
  {
   "cell_type": "code",
   "execution_count": null,
   "metadata": {},
   "outputs": [],
   "source": [
    "# extract unique labels from the data\n",
    "mitbih_labels = train_df_mitbih['label'].unique()\n",
    "counts_train = train_df_mitbih['label'].value_counts()\n",
    "counts_test= test_df_mitbih['label'].value_counts()\n",
    "\n",
    "\n",
    "print(mitbih_labels)\n",
    "print(\"----------------------------------\")\n",
    "print(\"TRAIN: \"+  str(counts_train))\n",
    "print(\"----------------------------------\")\n",
    "print(\"TEST: \" + str(counts_test))"
   ]
  },
  {
   "cell_type": "code",
   "execution_count": null,
   "metadata": {},
   "outputs": [],
   "source": [
    "# for each label, plot the data#\n",
    "for label in mitbih_labels:\n",
    "    current = train_df_mitbih[train_df_mitbih['label'] == label].iloc[0]\n",
    "\n",
    "    # create a dataframe from the data and labels\n",
    "    current_df = pd.DataFrame(current)\n",
    "    current_df = current_df.drop('label', axis = 0)\n",
    "    current_df.plot(title = str(label), figsize = (10, 5))\n",
    "    "
   ]
  },
  {
   "attachments": {},
   "cell_type": "markdown",
   "metadata": {},
   "source": [
    "MEDIA SI DEVIATIA STANDARD PER UNITATE DE TIMP"
   ]
  },
  {
   "cell_type": "code",
   "execution_count": null,
   "metadata": {},
   "outputs": [],
   "source": [
    "# Media si deviatia standard pt fiecare label pt mitbih\n",
    "from matplotlib import pyplot as plt\n",
    "\n",
    "\n",
    "for label in ptbdb_labels:\n",
    "    current = df_train_ptbdb[df_train_ptbdb['label'] == label]\n",
    "\n",
    "    # create a dataframe from the data and labels\n",
    "    current_df = pd.DataFrame(current)\n",
    "    current_df = current_df.drop('label', axis = 1)\n",
    "    current_df_mean = current_df.mean()\n",
    "    current_df_std = current_df.std()\n",
    "    current_df_mean.plot(title = str(label), figsize = (10, 5))\n",
    "    current_df_std.plot(title = str(label), figsize = (10, 5))\n",
    "\n",
    "    # end plot\n",
    "    plt.legend(['mean', 'std'])\n",
    "    plt.show()\n",
    "\n",
    "    "
   ]
  },
  {
   "cell_type": "code",
   "execution_count": null,
   "metadata": {},
   "outputs": [],
   "source": [
    "# Media si deviatia standard pt fiecare label pt mitbih\n",
    "from matplotlib import pyplot as plt\n",
    "\n",
    "\n",
    "for label in mitbih_labels:\n",
    "    current = train_df_mitbih[train_df_mitbih['label'] == label]\n",
    "\n",
    "    # create a dataframe from the data and labels\n",
    "    current_df = pd.DataFrame(current)\n",
    "    current_df = current_df.drop('label', axis = 1)\n",
    "    current_df_mean = current_df.mean()\n",
    "    current_df_std = current_df.std()\n",
    "    current_df_mean.plot(title = str(label), figsize = (10, 5))\n",
    "    current_df_std.plot(title = str(label), figsize = (10, 5))\n",
    "\n",
    "    # end plot\n",
    "    plt.legend(['mean', 'std'])\n",
    "    plt.show()\n",
    "\n",
    "    "
   ]
  }
 ],
 "metadata": {
  "kernelspec": {
   "display_name": "Python 3",
   "language": "python",
   "name": "python3"
  },
  "language_info": {
   "codemirror_mode": {
    "name": "ipython",
    "version": 3
   },
   "file_extension": ".py",
   "mimetype": "text/x-python",
   "name": "python",
   "nbconvert_exporter": "python",
   "pygments_lexer": "ipython3",
   "version": "3.11.3"
  },
  "orig_nbformat": 4
 },
 "nbformat": 4,
 "nbformat_minor": 2
}
